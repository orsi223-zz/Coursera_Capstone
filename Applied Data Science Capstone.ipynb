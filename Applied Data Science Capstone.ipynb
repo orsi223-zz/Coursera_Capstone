{
 "cells": [
  {
   "cell_type": "markdown",
   "metadata": {},
   "source": [
    "## Applied Data Science Capstone Project"
   ]
  },
  {
   "cell_type": "markdown",
   "metadata": {},
   "source": [
    "This notebook will contain a car accident severity prediction model, as part of Coursera's Applied Data Science Capstone Project."
   ]
  },
  {
   "cell_type": "code",
   "execution_count": 2,
   "metadata": {},
   "outputs": [
    {
     "name": "stdout",
     "output_type": "stream",
     "text": [
      "Hello Capstone Project Course!\n"
     ]
    }
   ],
   "source": [
    "import numpy as np\n",
    "import pandas as pd\n",
    "print (\"Hello Capstone Project Course!\")"
   ]
  },
  {
   "cell_type": "markdown",
   "metadata": {},
   "source": [
    "## Introduction/Business Problem\n",
    "\n",
    "Most of us drive or use some other kind of transportation on a daily basis and unfortunately traffic accidents are part of everyday life, but we would all like to avoid them. \n",
    "The goal of this project is to identify patterns and hidden risk factors that can lead to a collision accident and to come up with a model which could accurately predict the likelihood of someone being involved in one.\n",
    "\n",
    "I'll try to uncover the causes of such accicents by analyzing the dataset provided by SDOT Traffic Management Division, Traffic Records Group. \n",
    "\n",
    "The findings could be used by the authorities to improve road safety for traffic participants in case of external factors being at fault, but they can also be a useful guide for drivers."
   ]
  },
  {
   "cell_type": "code",
   "execution_count": null,
   "metadata": {},
   "outputs": [],
   "source": []
  }
 ],
 "metadata": {
  "kernelspec": {
   "display_name": "Python 3",
   "language": "python",
   "name": "python3"
  },
  "language_info": {
   "codemirror_mode": {
    "name": "ipython",
    "version": 3
   },
   "file_extension": ".py",
   "mimetype": "text/x-python",
   "name": "python",
   "nbconvert_exporter": "python",
   "pygments_lexer": "ipython3",
   "version": "3.7.6"
  }
 },
 "nbformat": 4,
 "nbformat_minor": 4
}
