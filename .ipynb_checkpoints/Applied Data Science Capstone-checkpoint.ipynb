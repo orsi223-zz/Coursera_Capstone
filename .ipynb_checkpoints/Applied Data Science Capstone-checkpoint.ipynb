{
 "cells": [
  {
   "cell_type": "markdown",
   "metadata": {},
   "source": [
    "## Applied Data Science Capstone Project"
   ]
  },
  {
   "cell_type": "markdown",
   "metadata": {},
   "source": [
    "This notebook will contain a car accident severity prediction model, as part of Coursera's Applied Data Science Capstone Project."
   ]
  },
  {
   "cell_type": "code",
   "execution_count": 2,
   "metadata": {},
   "outputs": [
    {
     "name": "stdout",
     "output_type": "stream",
     "text": [
      "Hello Capstone Project Course!\n"
     ]
    }
   ],
   "source": [
    "import numpy as np\n",
    "import pandas as pd\n",
    "print (\"Hello Capstone Project Course!\")"
   ]
  },
  {
   "cell_type": "markdown",
   "metadata": {},
   "source": [
    "## Data \n",
    "\n",
    "I will be using a dataset provided by SDOT Traffic Management Division, Traffic Records Group. \n",
    "\n",
    "The data cointains different categorizations of a collision accident, such as accdident details, deverity, the date, the exact geolocation, people involved and external factors, such as weather ans road conditions.\n",
    "\n",
    "I will start by cleaning the data and elliminating accidents with little information, that could lead to misunderstandings. Then I'll continue by grouping the data and analyzing the average accident severity accross different groups.\n",
    "There might also be a seasonality issue, so analyzing the accidents over time is also important.\n",
    "\n",
    "After drawing the first conclusions, I'll start building my model that would predict accident severity by using the variables that influence it the most."
   ]
  },
  {
   "cell_type": "markdown",
   "metadata": {},
   "source": [
    "## Introduction/Business Problem\n",
    "\n",
    "Most of us drive or use some other kind of transportation on a daily basis and unfortunately traffic accidents are part of everyday life, but we would all like to avoid them. \n",
    "The goal of this project is to identify patterns and hidden risk factors that can lead to a collision accident and to come up with a model which could accurately predict the likelihood of someone being involved in one.\n",
    "\n",
    "I'll try to uncover the causes of such accicents by analyzing the dataset provided by SDOT Traffic Management Division, Traffic Records Group. \n",
    "\n",
    "The findings could be used by the authorities to improve road safety for traffic participants in case of external factors being at fault, but they can also be a useful guide for drivers."
   ]
  },
  {
   "cell_type": "code",
   "execution_count": null,
   "metadata": {},
   "outputs": [],
   "source": []
  }
 ],
 "metadata": {
  "kernelspec": {
   "display_name": "Python 3",
   "language": "python",
   "name": "python3"
  },
  "language_info": {
   "codemirror_mode": {
    "name": "ipython",
    "version": 3
   },
   "file_extension": ".py",
   "mimetype": "text/x-python",
   "name": "python",
   "nbconvert_exporter": "python",
   "pygments_lexer": "ipython3",
   "version": "3.7.6"
  }
 },
 "nbformat": 4,
 "nbformat_minor": 4
}
